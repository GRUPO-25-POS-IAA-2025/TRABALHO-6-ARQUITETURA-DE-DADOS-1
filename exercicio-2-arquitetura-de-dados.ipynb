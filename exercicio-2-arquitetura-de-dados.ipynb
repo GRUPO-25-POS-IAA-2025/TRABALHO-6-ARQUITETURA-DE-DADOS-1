{
  "cells": [
    {
      "cell_type": "markdown",
      "metadata": {
        "id": "Kj_c4RdlbySz"
      },
      "source": [
        "<h1>Atividade 02 - melhorar o desempenho de RP em conjunto de dados existentes</h1>\n",
        "<p>A atividade 02 visa trabalhar com um conjunto de dados pré-construído, onde as opções que o desenvolvedor tem, são de aplicar as técnicas de pré-processamento abaixo relacionadas:</p>\n",
        "<ul><li>Seleção</li>\n",
        "<li>Limpeza</li>\n",
        "<li>Codificação</li>\n",
        "<li>Enriquecimento</li>\n",
        "<li>Normalização</li>\n",
        "<li>Construção de Atributos</li>\n",
        "<li>Correção de Prevalência</li>\n",
        "<li>Partição do Conjunto de Dados</li>\n",
        "</ul>\n",
        "<p>Busque uma base de dados na UCI Machine Learning que seja indicada para problemas de classificação. (<a target=\"_blank\" href=\"https://archive.ics.uci.edu/datasets\">https://archive.ics.uci.edu/datasets</a>)</p>\n",
        "\n",
        "<h2>Integrantes</h2>\n",
        "<ul>\n",
        "  <li>Lugi Alves</li>\n",
        "  <li>Renan Santos</li>\n",
        "  <li>Umberto Ferreira</li>\n",
        "  <li>William Cardoso</li>\n",
        "</ul>"
      ]
    },
    {
      "cell_type": "markdown",
      "metadata": {
        "id": "n83lcKbzgBnE"
      },
      "source": [
        "Opção 01 - carregue o arquivo de dados da pasta local para o colab.\n"
      ]
    },
    {
      "cell_type": "code",
      "execution_count": 12,
      "metadata": {
        "colab": {
          "base_uri": "https://localhost:8080/"
        },
        "id": "IrWY8dFDbuvO",
        "outputId": "93251ce6-fc80-4150-f1d9-f4c17e6944fb"
      },
      "outputs": [
        {
          "data": {
            "text/html": [
              "<div>\n",
              "<style scoped>\n",
              "    .dataframe tbody tr th:only-of-type {\n",
              "        vertical-align: middle;\n",
              "    }\n",
              "\n",
              "    .dataframe tbody tr th {\n",
              "        vertical-align: top;\n",
              "    }\n",
              "\n",
              "    .dataframe thead th {\n",
              "        text-align: right;\n",
              "    }\n",
              "</style>\n",
              "<table border=\"1\" class=\"dataframe\">\n",
              "  <thead>\n",
              "    <tr style=\"text-align: right;\">\n",
              "      <th></th>\n",
              "      <th>age</th>\n",
              "      <th>sex</th>\n",
              "      <th>cp</th>\n",
              "      <th>trestbps</th>\n",
              "      <th>chol</th>\n",
              "      <th>fbs</th>\n",
              "      <th>restecg</th>\n",
              "      <th>thalach</th>\n",
              "      <th>exang</th>\n",
              "      <th>oldpeak</th>\n",
              "      <th>slope</th>\n",
              "      <th>ca</th>\n",
              "      <th>thal</th>\n",
              "      <th>target</th>\n",
              "    </tr>\n",
              "  </thead>\n",
              "  <tbody>\n",
              "    <tr>\n",
              "      <th>0</th>\n",
              "      <td>63.0</td>\n",
              "      <td>1.0</td>\n",
              "      <td>1.0</td>\n",
              "      <td>145.0</td>\n",
              "      <td>233.0</td>\n",
              "      <td>1.0</td>\n",
              "      <td>2.0</td>\n",
              "      <td>150.0</td>\n",
              "      <td>0.0</td>\n",
              "      <td>2.3</td>\n",
              "      <td>3.0</td>\n",
              "      <td>0.0</td>\n",
              "      <td>6.0</td>\n",
              "      <td>0</td>\n",
              "    </tr>\n",
              "    <tr>\n",
              "      <th>1</th>\n",
              "      <td>67.0</td>\n",
              "      <td>1.0</td>\n",
              "      <td>4.0</td>\n",
              "      <td>160.0</td>\n",
              "      <td>286.0</td>\n",
              "      <td>0.0</td>\n",
              "      <td>2.0</td>\n",
              "      <td>108.0</td>\n",
              "      <td>1.0</td>\n",
              "      <td>1.5</td>\n",
              "      <td>2.0</td>\n",
              "      <td>3.0</td>\n",
              "      <td>3.0</td>\n",
              "      <td>2</td>\n",
              "    </tr>\n",
              "    <tr>\n",
              "      <th>2</th>\n",
              "      <td>67.0</td>\n",
              "      <td>1.0</td>\n",
              "      <td>4.0</td>\n",
              "      <td>120.0</td>\n",
              "      <td>229.0</td>\n",
              "      <td>0.0</td>\n",
              "      <td>2.0</td>\n",
              "      <td>129.0</td>\n",
              "      <td>1.0</td>\n",
              "      <td>2.6</td>\n",
              "      <td>2.0</td>\n",
              "      <td>2.0</td>\n",
              "      <td>7.0</td>\n",
              "      <td>1</td>\n",
              "    </tr>\n",
              "    <tr>\n",
              "      <th>3</th>\n",
              "      <td>37.0</td>\n",
              "      <td>1.0</td>\n",
              "      <td>3.0</td>\n",
              "      <td>130.0</td>\n",
              "      <td>250.0</td>\n",
              "      <td>0.0</td>\n",
              "      <td>0.0</td>\n",
              "      <td>187.0</td>\n",
              "      <td>0.0</td>\n",
              "      <td>3.5</td>\n",
              "      <td>3.0</td>\n",
              "      <td>0.0</td>\n",
              "      <td>3.0</td>\n",
              "      <td>0</td>\n",
              "    </tr>\n",
              "    <tr>\n",
              "      <th>4</th>\n",
              "      <td>41.0</td>\n",
              "      <td>0.0</td>\n",
              "      <td>2.0</td>\n",
              "      <td>130.0</td>\n",
              "      <td>204.0</td>\n",
              "      <td>0.0</td>\n",
              "      <td>2.0</td>\n",
              "      <td>172.0</td>\n",
              "      <td>0.0</td>\n",
              "      <td>1.4</td>\n",
              "      <td>1.0</td>\n",
              "      <td>0.0</td>\n",
              "      <td>3.0</td>\n",
              "      <td>0</td>\n",
              "    </tr>\n",
              "  </tbody>\n",
              "</table>\n",
              "</div>"
            ],
            "text/plain": [
              "    age  sex   cp  trestbps   chol  fbs  restecg  thalach  exang  oldpeak  \\\n",
              "0  63.0  1.0  1.0     145.0  233.0  1.0      2.0    150.0    0.0      2.3   \n",
              "1  67.0  1.0  4.0     160.0  286.0  0.0      2.0    108.0    1.0      1.5   \n",
              "2  67.0  1.0  4.0     120.0  229.0  0.0      2.0    129.0    1.0      2.6   \n",
              "3  37.0  1.0  3.0     130.0  250.0  0.0      0.0    187.0    0.0      3.5   \n",
              "4  41.0  0.0  2.0     130.0  204.0  0.0      2.0    172.0    0.0      1.4   \n",
              "\n",
              "   slope   ca  thal  target  \n",
              "0    3.0  0.0   6.0       0  \n",
              "1    2.0  3.0   3.0       2  \n",
              "2    2.0  2.0   7.0       1  \n",
              "3    3.0  0.0   3.0       0  \n",
              "4    1.0  0.0   3.0       0  "
            ]
          },
          "execution_count": 12,
          "metadata": {},
          "output_type": "execute_result"
        }
      ],
      "source": [
        "import pandas as pd\n",
        "import numpy as np\n",
        "from sklearn.preprocessing import MinMaxScaler\n",
        "from sklearn.model_selection import train_test_split\n",
        "from sklearn.svm import SVC\n",
        "from sklearn.metrics import confusion_matrix, classification_report\n",
        "import requests\n",
        "from io import StringIO\n",
        "\n",
        "# Dataset disponível como CSV\n",
        "url = \"https://archive.ics.uci.edu/ml/machine-learning-databases/heart-disease/processed.cleveland.data\"\n",
        "response = requests.get(url)\n",
        "\n",
        "# Nomes das colunas segundo a documentação UCI\n",
        "colunas = [\n",
        "    'age', 'sex', 'cp', 'trestbps', 'chol', 'fbs', 'restecg',\n",
        "    'thalach', 'exang', 'oldpeak', 'slope', 'ca', 'thal', 'target'\n",
        "]\n",
        "\n",
        "# Leitura do conteúdo como CSV (valores faltantes são marcados como '?')\n",
        "df = pd.read_csv(StringIO(response.text), header=None, names=colunas, na_values='?')\n",
        "\n",
        "# Visualização inicial\n",
        "df.head()\n"
      ]
    },
    {
      "cell_type": "code",
      "execution_count": 13,
      "metadata": {
        "colab": {
          "base_uri": "https://localhost:8080/",
          "height": 1000
        },
        "id": "4l-TY3ghluvM",
        "outputId": "09ada392-2f4f-4f07-ab7e-c4a5fb98de7d"
      },
      "outputs": [
        {
          "name": "stdout",
          "output_type": "stream",
          "text": [
            "Valores faltantes por coluna:\n",
            " age         0\n",
            "sex         0\n",
            "cp          0\n",
            "trestbps    0\n",
            "chol        0\n",
            "fbs         0\n",
            "restecg     0\n",
            "thalach     0\n",
            "exang       0\n",
            "oldpeak     0\n",
            "slope       0\n",
            "ca          4\n",
            "thal        2\n",
            "target      0\n",
            "dtype: int64\n"
          ]
        }
      ],
      "source": [
        "# Verificar valores ausentes\n",
        "print(\"Valores faltantes por coluna:\\n\", df.isna().sum())\n",
        "\n",
        "# Remover linhas com valores ausentes\n",
        "df = df.dropna()\n",
        "\n",
        "# Converter colunas para tipos corretos\n",
        "df = df.astype({\n",
        "    'ca': int, 'thal': int\n",
        "})\n",
        "\n",
        "# A variável target tem valores 0 (sem doença) a 4 (com níveis de doença)\n",
        "# Vamos binarizar: 0 = sem doença, 1 = com doença\n",
        "df['target'] = df['target'].apply(lambda x: 1 if x > 0 else 0)\n",
        "\n",
        "# Separar atributos e rótulo\n",
        "X_orig = df.drop(columns=['target'])\n",
        "Y_orig = df['target']\n"
      ]
    },
    {
      "cell_type": "code",
      "execution_count": 14,
      "metadata": {
        "colab": {
          "base_uri": "https://localhost:8080/"
        },
        "id": "OLrGqcAMulAE",
        "outputId": "0512a5ec-e5a5-4ee5-8d10-ca787cb395c4"
      },
      "outputs": [],
      "source": [
        "scaler = MinMaxScaler()\n",
        "X = pd.DataFrame(scaler.fit_transform(X_orig), columns=X_orig.columns)\n",
        "Y = Y_orig.copy()\n"
      ]
    },
    {
      "cell_type": "code",
      "execution_count": 15,
      "metadata": {
        "colab": {
          "base_uri": "https://localhost:8080/"
        },
        "id": "-Tp4WMMPyuO2",
        "outputId": "bdcf62ed-c85e-4ac5-ca20-f1b92614ae33"
      },
      "outputs": [],
      "source": [
        "X_train, X_test, y_train, y_test = train_test_split(X, Y, test_size=0.25, stratify=Y, random_state=42)\n",
        "X_orig_train, X_orig_test, y_orig_train, y_orig_test = train_test_split(X_orig, Y_orig, test_size=0.25, stratify=Y_orig, random_state=42)\n"
      ]
    },
    {
      "cell_type": "code",
      "execution_count": 16,
      "metadata": {
        "id": "hDFNHGyF20UV"
      },
      "outputs": [
        {
          "name": "stdout",
          "output_type": "stream",
          "text": [
            "🔎 Avaliação com dados ORIGINAIS (Treino):\n",
            "[[104  16]\n",
            " [ 59  43]]\n",
            "              precision    recall  f1-score   support\n",
            "\n",
            "           0       0.64      0.87      0.73       120\n",
            "           1       0.73      0.42      0.53       102\n",
            "\n",
            "    accuracy                           0.66       222\n",
            "   macro avg       0.68      0.64      0.63       222\n",
            "weighted avg       0.68      0.66      0.64       222\n",
            "\n",
            "🔎 Avaliação com dados ORIGINAIS (Teste):\n",
            "[[33  7]\n",
            " [17 18]]\n",
            "              precision    recall  f1-score   support\n",
            "\n",
            "           0       0.66      0.82      0.73        40\n",
            "           1       0.72      0.51      0.60        35\n",
            "\n",
            "    accuracy                           0.68        75\n",
            "   macro avg       0.69      0.67      0.67        75\n",
            "weighted avg       0.69      0.68      0.67        75\n",
            "\n"
          ]
        }
      ],
      "source": [
        "modelo_orig = SVC()\n",
        "modelo_orig.fit(X_orig_train, y_orig_train)\n",
        "\n",
        "print(\"🔎 Avaliação com dados ORIGINAIS (Treino):\")\n",
        "print(confusion_matrix(y_orig_train, modelo_orig.predict(X_orig_train)))\n",
        "print(classification_report(y_orig_train, modelo_orig.predict(X_orig_train)))\n",
        "\n",
        "print(\"🔎 Avaliação com dados ORIGINAIS (Teste):\")\n",
        "print(confusion_matrix(y_orig_test, modelo_orig.predict(X_orig_test)))\n",
        "print(classification_report(y_orig_test, modelo_orig.predict(X_orig_test)))\n"
      ]
    },
    {
      "cell_type": "code",
      "execution_count": null,
      "metadata": {},
      "outputs": [
        {
          "name": "stdout",
          "output_type": "stream",
          "text": [
            "🔎 Avaliação com dados NORMALIZADOS (Treino):\n",
            "[[109  11]\n",
            " [ 18  84]]\n",
            "              precision    recall  f1-score   support\n",
            "\n",
            "           0       0.86      0.91      0.88       120\n",
            "           1       0.88      0.82      0.85       102\n",
            "\n",
            "    accuracy                           0.87       222\n",
            "   macro avg       0.87      0.87      0.87       222\n",
            "weighted avg       0.87      0.87      0.87       222\n",
            "\n",
            "🔎 Avaliação com dados NORMALIZADOS (Teste):\n",
            "[[36  4]\n",
            " [ 7 28]]\n",
            "              precision    recall  f1-score   support\n",
            "\n",
            "           0       0.84      0.90      0.87        40\n",
            "           1       0.88      0.80      0.84        35\n",
            "\n",
            "    accuracy                           0.85        75\n",
            "   macro avg       0.86      0.85      0.85        75\n",
            "weighted avg       0.85      0.85      0.85        75\n",
            "\n"
          ]
        }
      ],
      "source": [
        "modelo = SVC()\n",
        "modelo.fit(X_train, y_train)\n",
        "\n",
        "print(\" Avaliação com dados NORMALIZADOS (Treino):\")\n",
        "print(confusion_matrix(y_train, modelo.predict(X_train)))\n",
        "print(classification_report(y_train, modelo.predict(X_train)))\n",
        "\n",
        "print(\"Avaliação com dados NORMALIZADOS (Teste):\")\n",
        "print(confusion_matrix(y_test, modelo.predict(X_test)))\n",
        "print(classification_report(y_test, modelo.predict(X_test)))\n"
      ]
    }
  ],
  "metadata": {
    "colab": {
      "provenance": []
    },
    "kernelspec": {
      "display_name": "rapids-24.10",
      "language": "python",
      "name": "python3"
    },
    "language_info": {
      "codemirror_mode": {
        "name": "ipython",
        "version": 3
      },
      "file_extension": ".py",
      "mimetype": "text/x-python",
      "name": "python",
      "nbconvert_exporter": "python",
      "pygments_lexer": "ipython3",
      "version": "3.12.7"
    }
  },
  "nbformat": 4,
  "nbformat_minor": 0
}
