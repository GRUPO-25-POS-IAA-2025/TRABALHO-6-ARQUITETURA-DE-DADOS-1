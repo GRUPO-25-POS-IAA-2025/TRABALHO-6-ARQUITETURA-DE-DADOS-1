{
  "nbformat": 4,
  "nbformat_minor": 0,
  "metadata": {
    "colab": {
      "provenance": []
    },
    "kernelspec": {
      "name": "python3",
      "display_name": "Python 3"
    },
    "language_info": {
      "name": "python"
    }
  },
  "cells": [
    {
      "cell_type": "markdown",
      "source": [
        "<h1>Identificador automático de idioma</h1>\n",
        "<p><b>Problema</b>: Dados um texto de entrada, é possível identificar em qual língua o texto está escrito?</p>\n",
        "<p>\n",
        "Entrada: \"texto qualquer\" <br />\n",
        "Saída: português ou inglês ou francês ou italiano ou...\n",
        "</p>\n",
        "<p>&nbsp;</p>\n",
        "\n",
        "<h2>O processo de Reconhecimento de Padrões</h2>\n",
        "<p>O objetivo desse trabalho é demonstrar o processo de \"construção de atributos\" e como ele é fundamental para o <b>Reconhecimento de Padrões (RP)</b>.</p>\n",
        "\n",
        "<p>Primeiro um conjunto de \"amostras\" previamente conhecido (classificado)</p>"
      ],
      "metadata": {
        "id": "LPNR0nNzXkji"
      }
    },
    {
      "cell_type": "code",
      "execution_count": 1,
      "metadata": {
        "id": "8OTGqEfJTZrY"
      },
      "outputs": [],
      "source": [
        "#\n",
        "# amostras de texto em diferentes línguas\n",
        "#\n",
        "ingles = [\n",
        "\"Hello, how are you?\",\n",
        "\"I love to read books.\",\n",
        "\"The weather is nice today.\",\n",
        "\"Where is the nearest restaurant?\",\n",
        "\"What time is it?\",\n",
        "\"I enjoy playing soccer.\",\n",
        "\"Can you help me with this?\",\n",
        "\"I'm going to the movies tonight.\",\n",
        "\"This is a beautiful place.\",\n",
        "\"I like listening to music.\",\n",
        "\"Do you speak English?\",\n",
        "\"What is your favorite color?\",\n",
        "\"I'm learning to play the guitar.\",\n",
        "\"Have a great day!\",\n",
        "\"I need to buy some groceries.\",\n",
        "\"Let's go for a walk.\",\n",
        "\"How was your weekend?\",\n",
        "\"I'm excited for the concert.\",\n",
        "\"Could you pass me the salt, please?\",\n",
        "\"I have a meeting at 2 PM.\",\n",
        "\"I'm planning a vacation.\",\n",
        "\"She sings beautifully.\",\n",
        "\"The cat is sleeping.\",\n",
        "\"I want to learn French.\",\n",
        "\"I enjoy going to the beach.\",\n",
        "\"Where can I find a taxi?\",\n",
        "\"I'm sorry for the inconvenience.\",\n",
        "\"I'm studying for my exams.\",\n",
        "\"I like to cook dinner at home.\",\n",
        "\"Do you have any recommendations for restaurants?\",\n",
        "]\n",
        "\n",
        "espanhol = [\n",
        "\"Hola, ¿cómo estás?\",\n",
        "\"Me encanta leer libros.\",\n",
        "\"El clima está agradable hoy.\",\n",
        "\"¿Dónde está el restaurante más cercano?\",\n",
        "\"¿Qué hora es?\",\n",
        "\"Voy al parque todos los días.\",\n",
        "\"¿Puedes ayudarme con esto?\",\n",
        "\"Me gustaría ir de vacaciones.\",\n",
        "\"Este es mi libro favorito.\",\n",
        "\"Me gusta bailar salsa.\",\n",
        "\"¿Hablas español?\",\n",
        "\"¿Cuál es tu comida favorita?\",\n",
        "\"Estoy aprendiendo a tocar el piano.\",\n",
        "\"¡Que tengas un buen día!\",\n",
        "\"Necesito comprar algunas frutas.\",\n",
        "\"Vamos a dar un paseo.\",\n",
        "\"¿Cómo estuvo tu fin de semana?\",\n",
        "\"Estoy emocionado por el concierto.\",\n",
        "\"¿Me pasas la sal, por favor?\",\n",
        "\"Tengo una reunión a las 2 PM.\",\n",
        "\"Estoy planeando unas vacaciones.\",\n",
        "\"Ella canta hermosamente.\",\n",
        "\"El perro está jugando.\",\n",
        "\"Quiero aprender italiano.\",\n",
        "\"Disfruto ir a la playa.\",\n",
        "\"¿Dónde puedo encontrar un taxi?\",\n",
        "\"Lamento las molestias.\",\n",
        "\"Estoy estudiando para mis exámenes.\",\n",
        "\"Me gusta cocinar la cena en casa.\",\n",
        "\"¿Tienes alguna recomendación de restaurantes?\",\n",
        "]\n",
        "\n",
        "portugues = [\n",
        "\"Estou indo para o trabalho agora.\",\n",
        "\"Adoro passar tempo com minha família.\",\n",
        "\"Preciso comprar leite e pão.\",\n",
        "\"Vamos ao cinema no sábado.\",\n",
        "\"Gosto de praticar esportes ao ar livre.\",\n",
        "\"O trânsito está terrível hoje.\",\n",
        "\"A comida estava deliciosa!\",\n",
        "\"Você já visitou o Rio de Janeiro?\",\n",
        "\"Tenho uma reunião importante amanhã.\",\n",
        "\"A festa começa às 20h.\",\n",
        "\"Estou cansado depois de um longo dia de trabalho.\",\n",
        "\"Vamos fazer um churrasco no final de semana.\",\n",
        "\"O livro que estou lendo é muito interessante.\",\n",
        "\"Estou aprendendo a cozinhar pratos novos.\",\n",
        "\"Preciso fazer exercícios físicos regularmente.\",\n",
        "\"Vou viajar para o exterior nas férias.\",\n",
        "\"Você gosta de dançar?\",\n",
        "\"Hoje é meu aniversário!\",\n",
        "\"Gosto de ouvir música clássica.\",\n",
        "\"Estou estudando para o vestibular.\",\n",
        "\"Meu time de futebol favorito ganhou o jogo.\",\n",
        "\"Quero aprender a tocar violão.\",\n",
        "\"Vamos fazer uma viagem de carro.\",\n",
        "\"O parque fica cheio aos finais de semana.\",\n",
        "\"O filme que assisti ontem foi ótimo.\",\n",
        "\"Preciso resolver esse problema o mais rápido possível.\",\n",
        "\"Adoro explorar novos lugares.\",\n",
        "\"Vou visitar meus avós no domingo.\",\n",
        "\"Estou ansioso para as férias de verão.\",\n",
        "\"Gosto de fazer caminhadas na natureza.\",\n",
        "\"O restaurante tem uma vista incrível.\",\n",
        "\"Vamos sair para jantar no sábado.\",\n",
        "]"
      ]
    },
    {
      "cell_type": "markdown",
      "source": [
        "A \"amostras\" de texto precisa ser \"transformada\" em <b>padrões</b>\n",
        "\n",
        "<p>Um padrão é um conjunto de características, geralmente representado por um vetor e um conjunto de padrões no formato de tabela. Onde cada linha é um padrão e as colunas as características e, geralmente, na última coluna a <b>classe</b></p>"
      ],
      "metadata": {
        "id": "iY9ZVUEkjkw7"
      }
    },
    {
      "cell_type": "code",
      "source": [
        "import random\n",
        "\n",
        "pre_padroes = []\n",
        "for frase in ingles:\n",
        "  pre_padroes.append( [frase, 'inglês'])\n",
        "\n",
        "for frase in espanhol:\n",
        "  pre_padroes.append( [frase, 'espanhol'])\n",
        "\n",
        "for frase in portugues:\n",
        "  pre_padroes.append( [frase, 'português'])\n",
        "\n",
        "random.shuffle(pre_padroes)\n",
        "print(pre_padroes)"
      ],
      "metadata": {
        "colab": {
          "base_uri": "https://localhost:8080/"
        },
        "id": "X9aG5skikHSj",
        "outputId": "9e8f6493-1f90-4ee7-85f8-bbb8eb3ac72f"
      },
      "execution_count": 6,
      "outputs": [
        {
          "output_type": "stream",
          "name": "stdout",
          "text": [
            "[['Me gustaría ir de vacaciones.', 'espanhol'], ['Disfruto ir a la playa.', 'espanhol'], ['Necesito comprar algunas frutas.', 'espanhol'], ['Adoro passar tempo com minha família.', 'português'], ['Tengo una reunión a las 2 PM.', 'espanhol'], ['O filme que assisti ontem foi ótimo.', 'português'], ['Hello, how are you?', 'inglês'], ['Preciso fazer exercícios físicos regularmente.', 'português'], ['Quiero aprender italiano.', 'espanhol'], [\"I'm learning to play the guitar.\", 'inglês'], ['The cat is sleeping.', 'inglês'], ['This is a beautiful place.', 'inglês'], ['Vamos fazer um churrasco no final de semana.', 'português'], ['I like to cook dinner at home.', 'inglês'], ['Voy al parque todos los días.', 'espanhol'], ['Tenho uma reunião importante amanhã.', 'português'], ['Me gusta bailar salsa.', 'espanhol'], ['Estou indo para o trabalho agora.', 'português'], ['Do you speak English?', 'inglês'], ['Have a great day!', 'inglês'], ['How was your weekend?', 'inglês'], ['I want to learn French.', 'inglês'], [\"I'm going to the movies tonight.\", 'inglês'], ['¡Que tengas un buen día!', 'espanhol'], ['Me gusta cocinar la cena en casa.', 'espanhol'], ['I like listening to music.', 'inglês'], ['Estou ansioso para as férias de verão.', 'português'], ['Preciso comprar leite e pão.', 'português'], ['Could you pass me the salt, please?', 'inglês'], ['Me encanta leer libros.', 'espanhol'], ['Vou visitar meus avós no domingo.', 'português'], ['Preciso resolver esse problema o mais rápido possível.', 'português'], ['Lamento las molestias.', 'espanhol'], ['El clima está agradable hoy.', 'espanhol'], ['What is your favorite color?', 'inglês'], ['Estou estudando para o vestibular.', 'português'], ['Vamos sair para jantar no sábado.', 'português'], ['¿Cómo estuvo tu fin de semana?', 'espanhol'], [\"I'm sorry for the inconvenience.\", 'inglês'], ['Este es mi libro favorito.', 'espanhol'], ['Estoy planeando unas vacaciones.', 'espanhol'], ['Estou aprendendo a cozinhar pratos novos.', 'português'], ['O parque fica cheio aos finais de semana.', 'português'], ['Estoy aprendiendo a tocar el piano.', 'espanhol'], ['¿Dónde está el restaurante más cercano?', 'espanhol'], ['Vamos ao cinema no sábado.', 'português'], ['Vou viajar para o exterior nas férias.', 'português'], ['¿Puedes ayudarme con esto?', 'espanhol'], ['Você gosta de dançar?', 'português'], ['Adoro explorar novos lugares.', 'português'], ['I need to buy some groceries.', 'inglês'], ['Quero aprender a tocar violão.', 'português'], ['I have a meeting at 2 PM.', 'inglês'], ['The weather is nice today.', 'inglês'], [\"I'm excited for the concert.\", 'inglês'], ['Meu time de futebol favorito ganhou o jogo.', 'português'], ['Estoy estudiando para mis exámenes.', 'espanhol'], ['Você já visitou o Rio de Janeiro?', 'português'], ['El perro está jugando.', 'espanhol'], ['A festa começa às 20h.', 'português'], ['¿Tienes alguna recomendación de restaurantes?', 'espanhol'], ['¿Me pasas la sal, por favor?', 'espanhol'], ['Ella canta hermosamente.', 'espanhol'], ['Can you help me with this?', 'inglês'], ['Gosto de ouvir música clássica.', 'português'], ['Estou cansado depois de um longo dia de trabalho.', 'português'], ['¿Qué hora es?', 'espanhol'], ['Do you have any recommendations for restaurants?', 'inglês'], ['She sings beautifully.', 'inglês'], ['What time is it?', 'inglês'], ['¿Hablas español?', 'espanhol'], ['I love to read books.', 'inglês'], ['I enjoy going to the beach.', 'inglês'], ['Hoje é meu aniversário!', 'português'], ['¿Dónde puedo encontrar un taxi?', 'espanhol'], ['Where can I find a taxi?', 'inglês'], ['Gosto de praticar esportes ao ar livre.', 'português'], ['Where is the nearest restaurant?', 'inglês'], [\"I'm planning a vacation.\", 'inglês'], ['A comida estava deliciosa!', 'português'], [\"I'm studying for my exams.\", 'inglês'], ['Gosto de fazer caminhadas na natureza.', 'português'], ['Hola, ¿cómo estás?', 'espanhol'], ['O restaurante tem uma vista incrível.', 'português'], ['O livro que estou lendo é muito interessante.', 'português'], ['Vamos fazer uma viagem de carro.', 'português'], ['Estoy emocionado por el concierto.', 'espanhol'], ['I enjoy playing soccer.', 'inglês'], ['¿Cuál es tu comida favorita?', 'espanhol'], ['Vamos a dar un paseo.', 'espanhol'], ['O trânsito está terrível hoje.', 'português'], [\"Let's go for a walk.\", 'inglês']]\n"
          ]
        }
      ]
    },
    {
      "cell_type": "markdown",
      "source": [
        "O DataFrame do pandas facilita a visualização."
      ],
      "metadata": {
        "id": "82bo5DiGk1aa"
      }
    },
    {
      "cell_type": "code",
      "source": [
        "import pandas as pd\n",
        "dados = pd.DataFrame(pre_padroes)\n",
        "dados"
      ],
      "metadata": {
        "id": "PytJtdd1k_F6"
      },
      "execution_count": null,
      "outputs": []
    },
    {
      "cell_type": "markdown",
      "source": [
        "<h1>Construção dos atributos</h1>\n",
        "<p>Esse é o coração desse trabalho e que deverá ser desenvolvido por vocês. Pensem em como podemos \"medir\" cadas frase/sentença e extrair características que melhorem o resultado do processo de identificação.<p>\n",
        "<p>Após a criação de cada novo atributo, execute as etapas seguintes e registre as métricas da matriz de confusão. Principalmente acurácia e a precisão.</p>"
      ],
      "metadata": {
        "id": "A0owXHcxlP_C"
      }
    },
    {
      "cell_type": "code",
      "source": [
        "# a entrada é o vetor pre_padroes e a saída desse passo deverá ser \"padrões\"\n",
        "import re\n",
        "\n",
        "def tamanhoMedioFrases(texto):\n",
        "  palavras = re.split(\"\\s\",texto)\n",
        "  #print(palavras)\n",
        "  tamanhos = [len(s) for s in palavras if len(s)>0]\n",
        "  #print(tamanhos)\n",
        "  soma = 0\n",
        "  for t in tamanhos:\n",
        "    soma=soma+t\n",
        "  return soma / len(tamanhos)\n",
        "\n",
        "\n",
        "def funcao2(frase):\n",
        "  # faz alguma coisa, mede algo\n",
        "  return 0\n",
        "\n",
        "#\n",
        "#   crie suas funções aqui\n",
        "#\n",
        "#\n",
        "\n",
        "def extraiCaracteristicas(frase):\n",
        "  # frase é um vetor [ 'texto', 'lingua' ]\n",
        "  texto = frase[0]\n",
        "  pattern_regex = re.compile('[^\\w+]', re.UNICODE)\n",
        "  texto = re.sub(pattern_regex,' ',texto)\n",
        "  #print(texto)\n",
        "  caracteristica1=tamanhoMedioFrases(texto)\n",
        "  caracteristica2=funcao2(texto)\n",
        "  caracteristica3=funcao2(texto)\n",
        "  # acrescente as suas funcoes no vetor padrao\n",
        "  padrao = [caracteristica1, caracteristica2, caracteristica3, frase[1] ]\n",
        "  return padrao\n",
        "\n",
        "\n",
        "def geraPadroes(frases):\n",
        "  padroes = []\n",
        "  for frase in frases:\n",
        "    padrao = extraiCaracteristicas(frase)\n",
        "    padroes.append(padrao)\n",
        "  return padroes\n",
        "\n",
        "# converte o formato [frase classe] em\n",
        "# [caracteristica_1, caracteristica_2,... caracteristica n, classe]\n",
        "padroes = geraPadroes(pre_padroes)\n",
        "\n",
        "#\n",
        "# apenas para visualizacao\n",
        "print(padroes)\n",
        "\n",
        "dados = pd.DataFrame(padroes)\n",
        "dados"
      ],
      "metadata": {
        "id": "nlBpZ6yvlygB"
      },
      "execution_count": null,
      "outputs": []
    },
    {
      "cell_type": "markdown",
      "source": [
        "<h2>Treinando o modelo com SVM</h1>\n",
        "<p>Separando o conjunto de treinamento do conjunto de testes</p>"
      ],
      "metadata": {
        "id": "Hiy_-Mw6x1HU"
      }
    },
    {
      "cell_type": "code",
      "source": [
        "from sklearn.model_selection import train_test_split\n",
        "import numpy as np\n",
        "\n",
        "\n",
        "#from sklearn.metrics import confusion_matrix\n",
        "\n",
        "vet = np.array(padroes)\n",
        "classes = vet[:,-1]         # classes = [p[-1] for p in padroes]\n",
        "#print(classes)\n",
        "padroes_sem_classe = vet[:,0:-1]\n",
        "#print(padroes_sem_classe)\n",
        "X_train, X_test, y_train, y_test = train_test_split(padroes_sem_classe, classes, test_size=0.25, stratify=classes)\n"
      ],
      "metadata": {
        "id": "k9JFhvGBx6Uj"
      },
      "execution_count": null,
      "outputs": []
    },
    {
      "cell_type": "markdown",
      "source": [
        "Com os conjuntos separados, podemos \"treinar\" o modelo usando a SVM."
      ],
      "metadata": {
        "id": "o3YCjbFm2Gdq"
      }
    },
    {
      "cell_type": "code",
      "source": [
        "from sklearn import svm\n",
        "from sklearn.metrics import confusion_matrix\n",
        "from sklearn.metrics import classification_report\n",
        "\n",
        "treinador = svm.SVC()  #algoritmo escolhido\n",
        "modelo = treinador.fit(X_train, y_train)\n",
        "\n",
        "#\n",
        "# score com os dados de treinamento\n",
        "acuracia = modelo.score(X_train, y_train)\n",
        "print(\"Acurácia nos dados de treinamento: {:.2f}%\".format(acuracia * 100))\n",
        "\n",
        "#\n",
        "# melhor avaliar com a matriz de confusão\n",
        "y_pred = modelo.predict(X_train)\n",
        "cm = confusion_matrix(y_train, y_pred)\n",
        "print(cm)\n",
        "print(classification_report(y_train, y_pred))\n",
        "\n",
        "#\n",
        "# com dados de teste que não foram usados no treinamento\n",
        "print('métricas mais confiáveis')\n",
        "y_pred2 = modelo.predict(X_test)\n",
        "cm = confusion_matrix(y_test, y_pred2)\n",
        "print(cm)\n",
        "print(classification_report(y_test, y_pred2))\n"
      ],
      "metadata": {
        "colab": {
          "base_uri": "https://localhost:8080/"
        },
        "id": "0ggUrZC42ib4",
        "outputId": "f9f3bbe6-473c-49f3-b2b0-c21eb8e10d3a"
      },
      "execution_count": 35,
      "outputs": [
        {
          "output_type": "stream",
          "name": "stdout",
          "text": [
            "Acurácia nos dados de treinamento: 53.42%\n",
            "[[ 0  9 15]\n",
            " [ 0 19  5]\n",
            " [ 0  5 20]]\n",
            "              precision    recall  f1-score   support\n",
            "\n",
            "    espanhol       0.00      0.00      0.00        24\n",
            "      inglês       0.58      0.79      0.67        24\n",
            "   português       0.50      0.80      0.62        25\n",
            "\n",
            "    accuracy                           0.53        73\n",
            "   macro avg       0.36      0.53      0.43        73\n",
            "weighted avg       0.36      0.53      0.43        73\n",
            "\n",
            "métricas mais confiáveis\n",
            "[[0 2 4]\n",
            " [0 6 0]\n",
            " [0 2 5]]\n",
            "              precision    recall  f1-score   support\n",
            "\n",
            "    espanhol       0.00      0.00      0.00         6\n",
            "      inglês       0.60      1.00      0.75         6\n",
            "   português       0.56      0.71      0.63         7\n",
            "\n",
            "    accuracy                           0.58        19\n",
            "   macro avg       0.39      0.57      0.46        19\n",
            "weighted avg       0.39      0.58      0.47        19\n",
            "\n"
          ]
        },
        {
          "output_type": "stream",
          "name": "stderr",
          "text": [
            "/usr/local/lib/python3.10/dist-packages/sklearn/metrics/_classification.py:1344: UndefinedMetricWarning: Precision and F-score are ill-defined and being set to 0.0 in labels with no predicted samples. Use `zero_division` parameter to control this behavior.\n",
            "  _warn_prf(average, modifier, msg_start, len(result))\n",
            "/usr/local/lib/python3.10/dist-packages/sklearn/metrics/_classification.py:1344: UndefinedMetricWarning: Precision and F-score are ill-defined and being set to 0.0 in labels with no predicted samples. Use `zero_division` parameter to control this behavior.\n",
            "  _warn_prf(average, modifier, msg_start, len(result))\n",
            "/usr/local/lib/python3.10/dist-packages/sklearn/metrics/_classification.py:1344: UndefinedMetricWarning: Precision and F-score are ill-defined and being set to 0.0 in labels with no predicted samples. Use `zero_division` parameter to control this behavior.\n",
            "  _warn_prf(average, modifier, msg_start, len(result))\n",
            "/usr/local/lib/python3.10/dist-packages/sklearn/metrics/_classification.py:1344: UndefinedMetricWarning: Precision and F-score are ill-defined and being set to 0.0 in labels with no predicted samples. Use `zero_division` parameter to control this behavior.\n",
            "  _warn_prf(average, modifier, msg_start, len(result))\n",
            "/usr/local/lib/python3.10/dist-packages/sklearn/metrics/_classification.py:1344: UndefinedMetricWarning: Precision and F-score are ill-defined and being set to 0.0 in labels with no predicted samples. Use `zero_division` parameter to control this behavior.\n",
            "  _warn_prf(average, modifier, msg_start, len(result))\n",
            "/usr/local/lib/python3.10/dist-packages/sklearn/metrics/_classification.py:1344: UndefinedMetricWarning: Precision and F-score are ill-defined and being set to 0.0 in labels with no predicted samples. Use `zero_division` parameter to control this behavior.\n",
            "  _warn_prf(average, modifier, msg_start, len(result))\n"
          ]
        }
      ]
    }
  ]
}
